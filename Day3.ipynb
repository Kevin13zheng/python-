{
 "cells": [
  {
   "cell_type": "code",
   "execution_count": 5,
   "metadata": {},
   "outputs": [
    {
     "name": "stdout",
     "output_type": "stream",
     "text": [
      "第一个数组:\n",
      "[0. 0. 0. 0. 0. 0. 0. 0. 0. 0.]\n",
      "\n",
      "\n",
      "第二个数组:\n",
      "[0 0 0 0 1 0 0 0 0 0]\n",
      "\n",
      "\n",
      "两个数组相减加:\n",
      "[0. 0. 0. 0. 1. 0. 0. 0. 0. 0.]\n"
     ]
    }
   ],
   "source": [
    "import numpy as np\n",
    "x=np.zeros(10)\n",
    "a = np.asarray(x)\n",
    "print('第一个数组:')\n",
    "print(a)\n",
    "print('\\n')\n",
    "print('第二个数组:')\n",
    "b = np.array([0,0,0,0,1,0,0,0,0,0])\n",
    "print (b)\n",
    "print('\\n')\n",
    "print('两个数组相减加:')\n",
    "print(np.add(a,b))"
   ]
  },
  {
   "cell_type": "code",
   "execution_count": 8,
   "metadata": {},
   "outputs": [
    {
     "name": "stdout",
     "output_type": "stream",
     "text": [
      "[[0 0 0]\n",
      " [0 0 0]\n",
      " [0 0 0]\n",
      " [0 0 0]\n",
      " [0 0 0]]\n",
      "[[-1230198000 -1230210888]\n",
      " [-1230197960 -1227373120]\n",
      " [-1230197920 -1230197880]]\n",
      "两个数组相乘:\n",
      "[0. 0. 0. 0. 0. 0. 0. 0. 0. 0.]\n"
     ]
    }
   ],
   "source": [
    "import numpy as np\n",
    "x = np.empty([5,3],dtype = int)\n",
    "print (x)\n",
    "y = np.empty([3,2],dtype = int)\n",
    "print (y)\n",
    "print('两个数组相乘:')\n",
    "print(np.multiply(a,b))"
   ]
  },
  {
   "cell_type": "code",
   "execution_count": 17,
   "metadata": {},
   "outputs": [
    {
     "name": "stdout",
     "output_type": "stream",
     "text": [
      "[-288, -17, -13, 7, 11, 17, 24, 47, 77]\n"
     ]
    }
   ],
   "source": [
    "\n",
    "a = [11,-13,17,-17,7,24,77,47,-288]  #测试的案例\n",
    "b = len(a)                           #队列长度\n",
    "for i in range(b):\n",
    "    for j in range(b-i-1):           #设置循环次数\n",
    "        if a[j]>a[j+1]:\n",
    "            a[j],a[j+1]=a[j+1],a[j]\n",
    "print(a)"
   ]
  },
  {
   "cell_type": "code",
   "execution_count": 48,
   "metadata": {},
   "outputs": [
    {
     "name": "stdout",
     "output_type": "stream",
     "text": [
      "以F（按列）风格顺序展开从小到大的数组: \n",
      "[-1325457376 -1325455880 -1325455792 -1325455704 -1325455088 -1325455000\n",
      " -1325454912 -1325454824 -1325454384 -1325454296 -1325454208 -1325454120\n",
      " -1325454032 -1325453944 -1325453680 -1325453592 -1325453504 -1325453416\n",
      " -1325451860 -1325436896 -1325436808 -1325436720 -1325436632 -1325436456\n",
      " -1325436280 -1325436192 -1325436104 -1325436016 -1325435928 -1325435752\n",
      " -1325435224 -1325435048 -1325434960 -1325434872 -1325434696 -1325434608\n",
      " -1325434432 -1325434344 -1325434256 -1325434168 -1325434080 -1325433992\n",
      " -1325433904 -1325433728 -1325433552 -1325433464 -1325433376 -1325433288\n",
      " -1325433200 -1325433112 -1325432320 -1325431720 -1325431400 -1325431068\n",
      " -1325431028 -1325419412 -1325419380 -1325419252 -1325419220 -1325419188\n",
      " -1325419156 -1325419124 -1325419092 -1325419060 -1325419028 -1325418996\n",
      " -1325418964 -1325418932 -1325418900 -1325418868 -1325418836 -1325418804\n",
      " -1325418772 -1325418740 -1325418708 -1325411972 -1325408048 -1325407960\n",
      " -1324091928 -1324068352 -1324067312 -1324067272 -1324061392 -1324005536\n",
      " -1323992200 -1323992112 -1323991144 -1323985376 -1323983456 -1323982576\n",
      " -1323980056 -1269206968 -1229313984 -1224728096 -1224380344 -1216009248\n",
      " -1215873856 -1215187680 -1214922592     8872608]\n",
      "\n",
      "\n",
      "输出最小值\n",
      "-1325457376\n",
      "\n",
      "\n",
      "输出最大值\n",
      "8872608\n"
     ]
    }
   ],
   "source": [
    "import numpy as np\n",
    "x = np.empty([10,10],dtype = int)\n",
    "\n",
    "print ('以F（按列）风格顺序展开从小到大的数组: ')\n",
    "a=x.flatten(order = 'F')\n",
    "b = len(a)                           #队列长度\n",
    "for i in range(b):\n",
    "    for j in range(b-i-1):           #设置循环次数\n",
    "        if a[j]>a[j+1]:\n",
    "            a[j],a[j+1]=a[j+1],a[j]\n",
    "print (a)\n",
    "print ('\\n')\n",
    "print ('输出最小值')\n",
    "print (np.min(a))\n",
    "print ('\\n')\n",
    "print ('输出最大值')\n",
    "print (np.max(a))"
   ]
  },
  {
   "cell_type": "code",
   "execution_count": 49,
   "metadata": {},
   "outputs": [
    {
     "name": "stdout",
     "output_type": "stream",
     "text": [
      "(array([2, 3, 5], dtype=int32),)\n"
     ]
    }
   ],
   "source": [
    "a = np.array([1,2,0,0,4,0])\n",
    "print(np.where(a==0))\n"
   ]
  },
  {
   "cell_type": "code",
   "execution_count": 50,
   "metadata": {},
   "outputs": [
    {
     "name": "stdout",
     "output_type": "stream",
     "text": [
      "\n",
      "\n",
      "两个数组相乘:\n",
      "[[-1065.6  1081.6]\n",
      " [ 1036.  -1014. ]]\n"
     ]
    }
   ],
   "source": [
    "a = np.array([[3,3.2],[3.5,3.6]])\n",
    "b = np.array([118.4,135.2])\n",
    "c = np.linalg.inv(a)\n",
    "print('\\n')\n",
    "print('两个数组相乘:')\n",
    "print(np.multiply(c,b))"
   ]
  },
  {
   "cell_type": "code",
   "execution_count": null,
   "metadata": {},
   "outputs": [],
   "source": []
  },
  {
   "cell_type": "code",
   "execution_count": null,
   "metadata": {},
   "outputs": [],
   "source": []
  }
 ],
 "metadata": {
  "kernelspec": {
   "display_name": "Python 3",
   "language": "python",
   "name": "python3"
  },
  "language_info": {
   "codemirror_mode": {
    "name": "ipython",
    "version": 3
   },
   "file_extension": ".py",
   "mimetype": "text/x-python",
   "name": "python",
   "nbconvert_exporter": "python",
   "pygments_lexer": "ipython3",
   "version": "3.7.1"
  }
 },
 "nbformat": 4,
 "nbformat_minor": 2
}
